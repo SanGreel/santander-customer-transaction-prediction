{
 "cells": [
  {
   "cell_type": "markdown",
   "metadata": {},
   "source": [
    "This code was provided by [Giba](https://www.kaggle.com/titericz) who is one of top-3 (2/109643) kagglers.\n",
    "\n",
    "[Giba Single Model Public 0.9245/ Private 0.9234 | Kaggle](https://www.kaggle.com/titericz/giba-single-model-public-0-9245-private-0-9234)"
   ]
  },
  {
   "cell_type": "code",
   "execution_count": 2,
   "metadata": {
    "_cell_guid": "b1076dfc-b9ad-4769-8c92-a6c4dae69d19",
    "_uuid": "8f2839f25d086af736a60e9eeb907d3b93b6e0e5"
   },
   "outputs": [],
   "source": [
    "import numpy as np\n",
    "import pandas as pd\n",
    "import gc\n",
    "import lightgbm as lgb\n",
    "from sklearn.model_selection import StratifiedKFold\n",
    "from scipy.stats import rankdata"
   ]
  },
  {
   "cell_type": "code",
   "execution_count": 5,
   "metadata": {},
   "outputs": [],
   "source": [
    "data_folder = 'data'\n",
    "\n",
    "train_df, test_df = pd.read_csv(data_folder+'/train.csv'), pd.read_csv(data_folder+'/test.csv')"
   ]
  },
  {
   "cell_type": "code",
   "execution_count": 6,
   "metadata": {},
   "outputs": [],
   "source": [
    "features = [x for x in train_df.columns if x.startswith(\"var\")]"
   ]
  },
  {
   "cell_type": "code",
   "execution_count": 7,
   "metadata": {},
   "outputs": [],
   "source": [
    "#Reverse features\n",
    "for var in features:\n",
    "    if np.corrcoef( train_df['target'], train_df[var] )[1][0] < 0:\n",
    "        train_df[var] = train_df[var] * -1\n",
    "        test_df[var]  = test_df[var]  * -1"
   ]
  },
  {
   "cell_type": "code",
   "execution_count": 8,
   "metadata": {},
   "outputs": [],
   "source": [
    "#count all values\n",
    "var_stats = {}\n",
    "hist_df = pd.DataFrame()\n",
    "\n",
    "for var in features:\n",
    "    var_stats = train_df[var].append(test_df[var]).value_counts()\n",
    "    hist_df[var] = pd.Series(test_df[var]).map(var_stats)\n",
    "    hist_df[var] = hist_df[var] > 1\n",
    "\n",
    "#remove fake test rows\n",
    "ind = hist_df.sum(axis=1) != 200"
   ]
  },
  {
   "cell_type": "code",
   "execution_count": 9,
   "metadata": {},
   "outputs": [],
   "source": [
    "#recount values without fake rows\n",
    "var_stats = {}\n",
    "for var in features:\n",
    "    var_stats[var] = train_df[var].append(test_df[ind][var]).value_counts()"
   ]
  },
  {
   "cell_type": "code",
   "execution_count": 10,
   "metadata": {},
   "outputs": [],
   "source": [
    "def logit(p):\n",
    "    return np.log(p) - np.log(1 - p)\n",
    "\n",
    "def var_to_feat(vr, var_stats, feat_id ):\n",
    "    new_df = pd.DataFrame()\n",
    "    new_df[\"var\"] = vr.values\n",
    "    new_df[\"hist\"] = pd.Series(vr).map(var_stats)\n",
    "    new_df[\"feature_id\"] = feat_id\n",
    "    new_df[\"var_rank\"] = new_df[\"var\"].rank()/200000.\n",
    "    return new_df.values"
   ]
  },
  {
   "cell_type": "code",
   "execution_count": 11,
   "metadata": {
    "_cell_guid": "79c7e3d0-c299-4dcb-8224-4455121ee9b0",
    "_uuid": "d629ff2d2480ee46fbb7e2d37f6b5fab8052498a"
   },
   "outputs": [
    {
     "name": "stdout",
     "output_type": "stream",
     "text": [
      "(40000000, 4) 40000000\n"
     ]
    }
   ],
   "source": [
    "TARGET = np.array( list(train_df['target'].values) * 200 )\n",
    "\n",
    "TRAIN = []\n",
    "var_mean = {}\n",
    "var_var  = {}\n",
    "for var in features:\n",
    "    tmp = var_to_feat(train_df[var], var_stats[var], int(var[4:]) )\n",
    "    var_mean[var] = np.mean(tmp[:,0]) \n",
    "    var_var[var]  = np.var(tmp[:,0])\n",
    "    tmp[:,0] = (tmp[:,0]-var_mean[var])/var_var[var]\n",
    "    TRAIN.append( tmp )\n",
    "TRAIN = np.vstack( TRAIN )\n",
    "\n",
    "del train_df\n",
    "_=gc.collect()\n",
    "\n",
    "print( TRAIN.shape, len( TARGET ) )"
   ]
  },
  {
   "cell_type": "code",
   "execution_count": 13,
   "metadata": {},
   "outputs": [
    {
     "name": "stdout",
     "output_type": "stream",
     "text": [
      "Fold: 0\n"
     ]
    },
    {
     "name": "stderr",
     "output_type": "stream",
     "text": [
      "/Users/akurochkin/anaconda3/lib/python3.6/site-packages/lightgbm/basic.py:1209: UserWarning: categorical_feature in Dataset is overridden.\n",
      "New categorical_feature is [2]\n",
      "  'New categorical_feature is {}'.format(sorted(list(categorical_feature))))\n"
     ]
    },
    {
     "name": "stdout",
     "output_type": "stream",
     "text": [
      "Training until validation scores don't improve for 25 rounds.\n",
      "[10]\tvalid_0's binary_logloss: 0.325586\tvalid_0's auc: 0.528006\n",
      "[20]\tvalid_0's binary_logloss: 0.325356\tvalid_0's auc: 0.528165\n",
      "[30]\tvalid_0's binary_logloss: 0.325252\tvalid_0's auc: 0.528277\n",
      "[40]\tvalid_0's binary_logloss: 0.325202\tvalid_0's auc: 0.528362\n",
      "[50]\tvalid_0's binary_logloss: 0.325176\tvalid_0's auc: 0.528408\n",
      "[60]\tvalid_0's binary_logloss: 0.325162\tvalid_0's auc: 0.528432\n",
      "[70]\tvalid_0's binary_logloss: 0.325154\tvalid_0's auc: 0.528396\n",
      "[80]\tvalid_0's binary_logloss: 0.325151\tvalid_0's auc: 0.528365\n",
      "Early stopping, best iteration is:\n",
      "[57]\tvalid_0's binary_logloss: 0.325165\tvalid_0's auc: 0.528438\n",
      "Fold: 1\n"
     ]
    },
    {
     "name": "stderr",
     "output_type": "stream",
     "text": [
      "/Users/akurochkin/anaconda3/lib/python3.6/site-packages/lightgbm/basic.py:1209: UserWarning: categorical_feature in Dataset is overridden.\n",
      "New categorical_feature is [2]\n",
      "  'New categorical_feature is {}'.format(sorted(list(categorical_feature))))\n"
     ]
    },
    {
     "name": "stdout",
     "output_type": "stream",
     "text": [
      "Training until validation scores don't improve for 25 rounds.\n",
      "[10]\tvalid_0's binary_logloss: 0.325591\tvalid_0's auc: 0.526915\n",
      "[20]\tvalid_0's binary_logloss: 0.325363\tvalid_0's auc: 0.527153\n",
      "[30]\tvalid_0's binary_logloss: 0.325262\tvalid_0's auc: 0.527289\n",
      "[40]\tvalid_0's binary_logloss: 0.325212\tvalid_0's auc: 0.527352\n",
      "[50]\tvalid_0's binary_logloss: 0.325187\tvalid_0's auc: 0.527413\n",
      "[60]\tvalid_0's binary_logloss: 0.325174\tvalid_0's auc: 0.527445\n",
      "[70]\tvalid_0's binary_logloss: 0.325166\tvalid_0's auc: 0.527479\n",
      "[80]\tvalid_0's binary_logloss: 0.325161\tvalid_0's auc: 0.527457\n",
      "[90]\tvalid_0's binary_logloss: 0.325159\tvalid_0's auc: 0.527472\n",
      "[100]\tvalid_0's binary_logloss: 0.325157\tvalid_0's auc: 0.527465\n",
      "[110]\tvalid_0's binary_logloss: 0.325156\tvalid_0's auc: 0.527468\n",
      "Early stopping, best iteration is:\n",
      "[92]\tvalid_0's binary_logloss: 0.325158\tvalid_0's auc: 0.52748\n",
      "Fold: 2\n"
     ]
    },
    {
     "name": "stderr",
     "output_type": "stream",
     "text": [
      "/Users/akurochkin/anaconda3/lib/python3.6/site-packages/lightgbm/basic.py:1209: UserWarning: categorical_feature in Dataset is overridden.\n",
      "New categorical_feature is [2]\n",
      "  'New categorical_feature is {}'.format(sorted(list(categorical_feature))))\n"
     ]
    },
    {
     "name": "stdout",
     "output_type": "stream",
     "text": [
      "Training until validation scores don't improve for 25 rounds.\n",
      "[10]\tvalid_0's binary_logloss: 0.325584\tvalid_0's auc: 0.528265\n",
      "[20]\tvalid_0's binary_logloss: 0.325349\tvalid_0's auc: 0.528566\n",
      "[30]\tvalid_0's binary_logloss: 0.325243\tvalid_0's auc: 0.528682\n",
      "[40]\tvalid_0's binary_logloss: 0.325193\tvalid_0's auc: 0.528655\n",
      "[50]\tvalid_0's binary_logloss: 0.325168\tvalid_0's auc: 0.528676\n",
      "Early stopping, best iteration is:\n",
      "[30]\tvalid_0's binary_logloss: 0.325243\tvalid_0's auc: 0.528682\n",
      "Fold: 3\n"
     ]
    },
    {
     "name": "stderr",
     "output_type": "stream",
     "text": [
      "/Users/akurochkin/anaconda3/lib/python3.6/site-packages/lightgbm/basic.py:1209: UserWarning: categorical_feature in Dataset is overridden.\n",
      "New categorical_feature is [2]\n",
      "  'New categorical_feature is {}'.format(sorted(list(categorical_feature))))\n"
     ]
    },
    {
     "name": "stdout",
     "output_type": "stream",
     "text": [
      "Training until validation scores don't improve for 25 rounds.\n",
      "[10]\tvalid_0's binary_logloss: 0.325585\tvalid_0's auc: 0.527374\n",
      "[20]\tvalid_0's binary_logloss: 0.325355\tvalid_0's auc: 0.527708\n",
      "[30]\tvalid_0's binary_logloss: 0.325254\tvalid_0's auc: 0.52786\n",
      "[40]\tvalid_0's binary_logloss: 0.325207\tvalid_0's auc: 0.527901\n",
      "[50]\tvalid_0's binary_logloss: 0.325182\tvalid_0's auc: 0.52792\n",
      "[60]\tvalid_0's binary_logloss: 0.325169\tvalid_0's auc: 0.527955\n",
      "[70]\tvalid_0's binary_logloss: 0.325161\tvalid_0's auc: 0.527955\n",
      "[80]\tvalid_0's binary_logloss: 0.325157\tvalid_0's auc: 0.527955\n",
      "[90]\tvalid_0's binary_logloss: 0.325154\tvalid_0's auc: 0.527993\n",
      "[100]\tvalid_0's binary_logloss: 0.325152\tvalid_0's auc: 0.528004\n",
      "[110]\tvalid_0's binary_logloss: 0.325151\tvalid_0's auc: 0.528\n",
      "[120]\tvalid_0's binary_logloss: 0.32515\tvalid_0's auc: 0.528001\n",
      "[130]\tvalid_0's binary_logloss: 0.32515\tvalid_0's auc: 0.528009\n",
      "[140]\tvalid_0's binary_logloss: 0.325149\tvalid_0's auc: 0.528014\n",
      "[150]\tvalid_0's binary_logloss: 0.325149\tvalid_0's auc: 0.528012\n",
      "[160]\tvalid_0's binary_logloss: 0.325149\tvalid_0's auc: 0.528015\n",
      "[170]\tvalid_0's binary_logloss: 0.325149\tvalid_0's auc: 0.528031\n",
      "[180]\tvalid_0's binary_logloss: 0.325149\tvalid_0's auc: 0.528002\n",
      "[190]\tvalid_0's binary_logloss: 0.325149\tvalid_0's auc: 0.528004\n",
      "Early stopping, best iteration is:\n",
      "[170]\tvalid_0's binary_logloss: 0.325149\tvalid_0's auc: 0.528031\n",
      "Fold: 4\n"
     ]
    },
    {
     "name": "stderr",
     "output_type": "stream",
     "text": [
      "/Users/akurochkin/anaconda3/lib/python3.6/site-packages/lightgbm/basic.py:1209: UserWarning: categorical_feature in Dataset is overridden.\n",
      "New categorical_feature is [2]\n",
      "  'New categorical_feature is {}'.format(sorted(list(categorical_feature))))\n"
     ]
    },
    {
     "name": "stdout",
     "output_type": "stream",
     "text": [
      "Training until validation scores don't improve for 25 rounds.\n",
      "[10]\tvalid_0's binary_logloss: 0.32558\tvalid_0's auc: 0.528613\n",
      "[20]\tvalid_0's binary_logloss: 0.325342\tvalid_0's auc: 0.528906\n",
      "[30]\tvalid_0's binary_logloss: 0.325234\tvalid_0's auc: 0.529017\n",
      "[40]\tvalid_0's binary_logloss: 0.325181\tvalid_0's auc: 0.529075\n",
      "[50]\tvalid_0's binary_logloss: 0.325154\tvalid_0's auc: 0.529135\n",
      "[60]\tvalid_0's binary_logloss: 0.32514\tvalid_0's auc: 0.529146\n",
      "[70]\tvalid_0's binary_logloss: 0.325131\tvalid_0's auc: 0.529168\n",
      "[80]\tvalid_0's binary_logloss: 0.325126\tvalid_0's auc: 0.529188\n",
      "[90]\tvalid_0's binary_logloss: 0.325123\tvalid_0's auc: 0.529205\n",
      "[100]\tvalid_0's binary_logloss: 0.325121\tvalid_0's auc: 0.529194\n",
      "[110]\tvalid_0's binary_logloss: 0.32512\tvalid_0's auc: 0.529181\n",
      "Early stopping, best iteration is:\n",
      "[94]\tvalid_0's binary_logloss: 0.325122\tvalid_0's auc: 0.529214\n",
      "Fold: 5\n"
     ]
    },
    {
     "name": "stderr",
     "output_type": "stream",
     "text": [
      "/Users/akurochkin/anaconda3/lib/python3.6/site-packages/lightgbm/basic.py:1209: UserWarning: categorical_feature in Dataset is overridden.\n",
      "New categorical_feature is [2]\n",
      "  'New categorical_feature is {}'.format(sorted(list(categorical_feature))))\n"
     ]
    },
    {
     "name": "stdout",
     "output_type": "stream",
     "text": [
      "Training until validation scores don't improve for 25 rounds.\n",
      "[10]\tvalid_0's binary_logloss: 0.325597\tvalid_0's auc: 0.528167\n",
      "[20]\tvalid_0's binary_logloss: 0.325371\tvalid_0's auc: 0.528415\n",
      "[30]\tvalid_0's binary_logloss: 0.325268\tvalid_0's auc: 0.528583\n",
      "[40]\tvalid_0's binary_logloss: 0.32522\tvalid_0's auc: 0.528617\n",
      "[50]\tvalid_0's binary_logloss: 0.325195\tvalid_0's auc: 0.528716\n",
      "[60]\tvalid_0's binary_logloss: 0.325182\tvalid_0's auc: 0.528732\n",
      "[70]\tvalid_0's binary_logloss: 0.325175\tvalid_0's auc: 0.528742\n",
      "[80]\tvalid_0's binary_logloss: 0.32517\tvalid_0's auc: 0.528767\n",
      "[90]\tvalid_0's binary_logloss: 0.325168\tvalid_0's auc: 0.528754\n",
      "[100]\tvalid_0's binary_logloss: 0.325166\tvalid_0's auc: 0.528737\n",
      "Early stopping, best iteration is:\n",
      "[78]\tvalid_0's binary_logloss: 0.325171\tvalid_0's auc: 0.528776\n",
      "Fold: 6\n"
     ]
    },
    {
     "name": "stderr",
     "output_type": "stream",
     "text": [
      "/Users/akurochkin/anaconda3/lib/python3.6/site-packages/lightgbm/basic.py:1209: UserWarning: categorical_feature in Dataset is overridden.\n",
      "New categorical_feature is [2]\n",
      "  'New categorical_feature is {}'.format(sorted(list(categorical_feature))))\n"
     ]
    },
    {
     "name": "stdout",
     "output_type": "stream",
     "text": [
      "Training until validation scores don't improve for 25 rounds.\n",
      "[10]\tvalid_0's binary_logloss: 0.325577\tvalid_0's auc: 0.528617\n",
      "[20]\tvalid_0's binary_logloss: 0.325339\tvalid_0's auc: 0.528893\n",
      "[30]\tvalid_0's binary_logloss: 0.325232\tvalid_0's auc: 0.529009\n",
      "[40]\tvalid_0's binary_logloss: 0.325179\tvalid_0's auc: 0.5291\n",
      "[50]\tvalid_0's binary_logloss: 0.325153\tvalid_0's auc: 0.529101\n",
      "[60]\tvalid_0's binary_logloss: 0.325138\tvalid_0's auc: 0.529077\n",
      "[70]\tvalid_0's binary_logloss: 0.325129\tvalid_0's auc: 0.529082\n",
      "Early stopping, best iteration is:\n",
      "[46]\tvalid_0's binary_logloss: 0.325162\tvalid_0's auc: 0.529112\n",
      "Fold: 7\n"
     ]
    },
    {
     "name": "stderr",
     "output_type": "stream",
     "text": [
      "/Users/akurochkin/anaconda3/lib/python3.6/site-packages/lightgbm/basic.py:1209: UserWarning: categorical_feature in Dataset is overridden.\n",
      "New categorical_feature is [2]\n",
      "  'New categorical_feature is {}'.format(sorted(list(categorical_feature))))\n"
     ]
    },
    {
     "name": "stdout",
     "output_type": "stream",
     "text": [
      "Training until validation scores don't improve for 25 rounds.\n",
      "[10]\tvalid_0's binary_logloss: 0.325588\tvalid_0's auc: 0.52843\n",
      "[20]\tvalid_0's binary_logloss: 0.325357\tvalid_0's auc: 0.528756\n",
      "[30]\tvalid_0's binary_logloss: 0.325256\tvalid_0's auc: 0.52879\n",
      "[40]\tvalid_0's binary_logloss: 0.325207\tvalid_0's auc: 0.528828\n",
      "[50]\tvalid_0's binary_logloss: 0.325182\tvalid_0's auc: 0.528896\n",
      "[60]\tvalid_0's binary_logloss: 0.325168\tvalid_0's auc: 0.528898\n",
      "[70]\tvalid_0's binary_logloss: 0.32516\tvalid_0's auc: 0.528916\n",
      "[80]\tvalid_0's binary_logloss: 0.325156\tvalid_0's auc: 0.528905\n",
      "[90]\tvalid_0's binary_logloss: 0.325153\tvalid_0's auc: 0.528885\n",
      "Early stopping, best iteration is:\n",
      "[68]\tvalid_0's binary_logloss: 0.325161\tvalid_0's auc: 0.528919\n",
      "Fold: 8\n"
     ]
    },
    {
     "name": "stderr",
     "output_type": "stream",
     "text": [
      "/Users/akurochkin/anaconda3/lib/python3.6/site-packages/lightgbm/basic.py:1209: UserWarning: categorical_feature in Dataset is overridden.\n",
      "New categorical_feature is [2]\n",
      "  'New categorical_feature is {}'.format(sorted(list(categorical_feature))))\n"
     ]
    },
    {
     "name": "stdout",
     "output_type": "stream",
     "text": [
      "Training until validation scores don't improve for 25 rounds.\n",
      "[10]\tvalid_0's binary_logloss: 0.325588\tvalid_0's auc: 0.527749\n",
      "[20]\tvalid_0's binary_logloss: 0.325357\tvalid_0's auc: 0.527982\n",
      "[30]\tvalid_0's binary_logloss: 0.325254\tvalid_0's auc: 0.528093\n",
      "[40]\tvalid_0's binary_logloss: 0.325205\tvalid_0's auc: 0.528161\n",
      "[50]\tvalid_0's binary_logloss: 0.325179\tvalid_0's auc: 0.528225\n",
      "[60]\tvalid_0's binary_logloss: 0.325166\tvalid_0's auc: 0.528289\n",
      "[70]\tvalid_0's binary_logloss: 0.325158\tvalid_0's auc: 0.528297\n",
      "[80]\tvalid_0's binary_logloss: 0.325154\tvalid_0's auc: 0.528293\n",
      "[90]\tvalid_0's binary_logloss: 0.325152\tvalid_0's auc: 0.528314\n",
      "[100]\tvalid_0's binary_logloss: 0.32515\tvalid_0's auc: 0.528304\n",
      "[110]\tvalid_0's binary_logloss: 0.325148\tvalid_0's auc: 0.528324\n",
      "[120]\tvalid_0's binary_logloss: 0.325147\tvalid_0's auc: 0.528341\n",
      "[130]\tvalid_0's binary_logloss: 0.325147\tvalid_0's auc: 0.528346\n",
      "[140]\tvalid_0's binary_logloss: 0.325146\tvalid_0's auc: 0.52835\n",
      "[150]\tvalid_0's binary_logloss: 0.325146\tvalid_0's auc: 0.528343\n",
      "[160]\tvalid_0's binary_logloss: 0.325146\tvalid_0's auc: 0.528355\n",
      "[170]\tvalid_0's binary_logloss: 0.325146\tvalid_0's auc: 0.52836\n",
      "[180]\tvalid_0's binary_logloss: 0.325146\tvalid_0's auc: 0.528376\n",
      "[190]\tvalid_0's binary_logloss: 0.325146\tvalid_0's auc: 0.528373\n",
      "[200]\tvalid_0's binary_logloss: 0.325146\tvalid_0's auc: 0.528362\n",
      "Did not meet early stopping. Best iteration is:\n",
      "[179]\tvalid_0's binary_logloss: 0.325145\tvalid_0's auc: 0.528376\n",
      "Fold: 9\n"
     ]
    },
    {
     "name": "stderr",
     "output_type": "stream",
     "text": [
      "/Users/akurochkin/anaconda3/lib/python3.6/site-packages/lightgbm/basic.py:1209: UserWarning: categorical_feature in Dataset is overridden.\n",
      "New categorical_feature is [2]\n",
      "  'New categorical_feature is {}'.format(sorted(list(categorical_feature))))\n"
     ]
    },
    {
     "name": "stdout",
     "output_type": "stream",
     "text": [
      "Training until validation scores don't improve for 25 rounds.\n",
      "[10]\tvalid_0's binary_logloss: 0.325586\tvalid_0's auc: 0.528233\n",
      "[20]\tvalid_0's binary_logloss: 0.325355\tvalid_0's auc: 0.528428\n",
      "[30]\tvalid_0's binary_logloss: 0.325251\tvalid_0's auc: 0.528602\n",
      "[40]\tvalid_0's binary_logloss: 0.325202\tvalid_0's auc: 0.52866\n",
      "[50]\tvalid_0's binary_logloss: 0.325176\tvalid_0's auc: 0.52869\n",
      "[60]\tvalid_0's binary_logloss: 0.325163\tvalid_0's auc: 0.52873\n",
      "[70]\tvalid_0's binary_logloss: 0.325154\tvalid_0's auc: 0.528744\n",
      "[80]\tvalid_0's binary_logloss: 0.325149\tvalid_0's auc: 0.528766\n",
      "[90]\tvalid_0's binary_logloss: 0.325146\tvalid_0's auc: 0.528779\n",
      "[100]\tvalid_0's binary_logloss: 0.325144\tvalid_0's auc: 0.528788\n",
      "[110]\tvalid_0's binary_logloss: 0.325144\tvalid_0's auc: 0.528771\n",
      "[120]\tvalid_0's binary_logloss: 0.325143\tvalid_0's auc: 0.528789\n",
      "[130]\tvalid_0's binary_logloss: 0.325142\tvalid_0's auc: 0.528801\n",
      "[140]\tvalid_0's binary_logloss: 0.325142\tvalid_0's auc: 0.528824\n",
      "[150]\tvalid_0's binary_logloss: 0.325141\tvalid_0's auc: 0.528844\n",
      "[160]\tvalid_0's binary_logloss: 0.325141\tvalid_0's auc: 0.528832\n",
      "[170]\tvalid_0's binary_logloss: 0.325141\tvalid_0's auc: 0.528824\n",
      "Early stopping, best iteration is:\n",
      "[148]\tvalid_0's binary_logloss: 0.325141\tvalid_0's auc: 0.528847\n"
     ]
    }
   ],
   "source": [
    "model = lgb.LGBMClassifier(**{\n",
    "     'learning_rate': 0.04,\n",
    "     'num_leaves': 31,\n",
    "     'max_bin': 1023,\n",
    "     'min_child_samples': 1000,\n",
    "     'reg_alpha': 0.1,\n",
    "     'reg_lambda': 0.2,\n",
    "     'feature_fraction': 1.0,\n",
    "     'bagging_freq': 1,\n",
    "     'bagging_fraction': 0.85,\n",
    "     'objective': 'binary',\n",
    "     'n_jobs': -1,\n",
    "     'n_estimators':200,})\n",
    "\n",
    "MODELS = []\n",
    "skf = StratifiedKFold(n_splits=10, shuffle=True, random_state=11111)\n",
    "for fold_, (train_indexes, valid_indexes) in enumerate(skf.split(TRAIN, TARGET)):\n",
    "    print('Fold:', fold_ )\n",
    "    model = model.fit( TRAIN[train_indexes], TARGET[train_indexes],\n",
    "                      eval_set = (TRAIN[valid_indexes], TARGET[valid_indexes]),\n",
    "                      verbose = 10,\n",
    "                      eval_metric='auc',\n",
    "                      early_stopping_rounds=25,\n",
    "                      categorical_feature = [2] )\n",
    "    MODELS.append( model )\n",
    "\n",
    "del TRAIN, TARGET\n",
    "_=gc.collect()"
   ]
  },
  {
   "cell_type": "code",
   "execution_count": 14,
   "metadata": {},
   "outputs": [
    {
     "name": "stderr",
     "output_type": "stream",
     "text": [
      "/Users/akurochkin/anaconda3/lib/python3.6/site-packages/ipykernel_launcher.py:12: SettingWithCopyWarning: \n",
      "A value is trying to be set on a copy of a slice from a DataFrame.\n",
      "Try using .loc[row_indexer,col_indexer] = value instead\n",
      "\n",
      "See the caveats in the documentation: http://pandas.pydata.org/pandas-docs/stable/indexing.html#indexing-view-versus-copy\n",
      "  if sys.path[0] == '':\n",
      "/Users/akurochkin/anaconda3/lib/python3.6/site-packages/ipykernel_launcher.py:13: SettingWithCopyWarning: \n",
      "A value is trying to be set on a copy of a slice from a DataFrame.\n",
      "Try using .loc[row_indexer,col_indexer] = value instead\n",
      "\n",
      "See the caveats in the documentation: http://pandas.pydata.org/pandas-docs/stable/indexing.html#indexing-view-versus-copy\n",
      "  del sys.path[0]\n"
     ]
    },
    {
     "name": "stdout",
     "output_type": "stream",
     "text": [
      "  ID_code    target\n",
      "0  test_0  0.823130\n",
      "1  test_1  0.883000\n",
      "2  test_2  0.858360\n",
      "3  test_3  0.858905\n",
      "4  test_4  0.751590\n",
      "5  test_5  0.064065\n",
      "6  test_6  0.104270\n",
      "7  test_7  0.639755\n",
      "8  test_8  0.062035\n",
      "9  test_9  0.163630\n"
     ]
    }
   ],
   "source": [
    "ypred = np.zeros( (200000,200) )\n",
    "\n",
    "for feat,var in enumerate(features):\n",
    "    tmp = var_to_feat(test_df[var], var_stats[var], int(var[4:]) )\n",
    "    tmp[:,0] = (tmp[:,0]-var_mean[var])/var_var[var]\n",
    "    for model_id in range(10):\n",
    "        model = MODELS[model_id]\n",
    "        ypred[:,feat] += model.predict_proba( tmp )[:,1] / 10.\n",
    "ypred = np.mean( logit(ypred), axis=1 )\n",
    "\n",
    "sub = test_df[['ID_code']]\n",
    "sub['target'] = ypred\n",
    "sub['target'] = sub['target'].rank() / 200000.\n",
    "sub.to_csv('golden_sub.csv', index=False)\n",
    "print( sub.head(10) )\n"
   ]
  },
  {
   "cell_type": "code",
   "execution_count": 10,
   "metadata": {},
   "outputs": [],
   "source": []
  }
 ],
 "metadata": {
  "kernelspec": {
   "display_name": "Python 3",
   "language": "python",
   "name": "python3"
  },
  "language_info": {
   "codemirror_mode": {
    "name": "ipython",
    "version": 3
   },
   "file_extension": ".py",
   "mimetype": "text/x-python",
   "name": "python",
   "nbconvert_exporter": "python",
   "pygments_lexer": "ipython3",
   "version": "3.6.7"
  }
 },
 "nbformat": 4,
 "nbformat_minor": 1
}
